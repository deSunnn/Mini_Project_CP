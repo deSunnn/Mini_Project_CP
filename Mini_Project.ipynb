{
  "nbformat": 4,
  "nbformat_minor": 0,
  "metadata": {
    "colab": {
      "provenance": [],
      "gpuType": "T4"
    },
    "kernelspec": {
      "name": "python3",
      "display_name": "Python 3"
    },
    "language_info": {
      "name": "python"
    },
    "accelerator": "GPU"
  },
  "cells": [
    {
      "cell_type": "code",
      "source": [
        "from google.colab import drive\n",
        "drive.mount('/content/drive')"
      ],
      "metadata": {
        "colab": {
          "base_uri": "https://localhost:8080/"
        },
        "id": "5ZhlbzrMrEcE",
        "outputId": "c492537d-0af1-4543-98f0-01a399bad759"
      },
      "execution_count": null,
      "outputs": [
        {
          "output_type": "stream",
          "name": "stdout",
          "text": [
            "Mounted at /content/drive\n"
          ]
        }
      ]
    },
    {
      "cell_type": "code",
      "execution_count": null,
      "metadata": {
        "id": "OZ-EtMGwjdyr"
      },
      "outputs": [],
      "source": [
        "import pandas as pd\n",
        "import numpy as np\n",
        "from sklearn import svm\n",
        "from sklearn.neighbors import KNeighborsClassifier\n",
        "from sklearn.model_selection import StratifiedKFold, train_test_split\n",
        "from sklearn.metrics import classification_report, confusion_matrix\n",
        "from sklearn.preprocessing import StandardScaler\n",
        "\n",
        "def classify_and_evaluate(scenario, classifier):\n",
        "    total_sensitivity = total_specificity = total_accuracy = total_f1 = 0\n",
        "\n",
        "    datasets = [f'drive/My Drive/CP/CPA{i}.xlsx' for i in range(1, 4)] + [f'drive/My Drive/CP/CPB{i}.xlsx' for i in range(1, 8)]\n",
        "\n",
        "    scaler = StandardScaler()\n",
        "\n",
        "    for dataset in datasets:\n",
        "        data = pd.read_excel(dataset)\n",
        "\n",
        "        X = data.drop('kelas', axis=1)\n",
        "        y = data['kelas']\n",
        "\n",
        "        X = pd.DataFrame(scaler.fit_transform(X), columns=X.columns)\n",
        "\n",
        "        if classifier == 'SVM':\n",
        "            clf = svm.SVC()\n",
        "        elif classifier == 'K-NN':\n",
        "            clf = KNeighborsClassifier()\n",
        "        else:\n",
        "            print('Classifier not recognized')\n",
        "            return\n",
        "\n",
        "        if scenario == '10-fold CV':\n",
        "            skf = StratifiedKFold(n_splits=10)\n",
        "\n",
        "            sensitivity = specificity = accuracy = f1 = 0\n",
        "\n",
        "            for train_index, test_index in skf.split(X, y):\n",
        "                X_train, X_test = X.iloc[train_index], X.iloc[test_index]\n",
        "                y_train, y_test = y.iloc[train_index], y.iloc[test_index]\n",
        "\n",
        "                clf.fit(X_train, y_train)\n",
        "                y_pred = clf.predict(X_test)\n",
        "\n",
        "                report = classification_report(y_test, y_pred, output_dict=True)\n",
        "                cm = confusion_matrix(y_test, y_pred)\n",
        "                sensitivity += report['weighted avg']['recall']\n",
        "                specificity += cm[0, 0] / (cm[0, 0] + cm[0, 1])\n",
        "                accuracy += report['accuracy']\n",
        "                f1 += report['weighted avg']['f1-score']\n",
        "\n",
        "            sensitivity /= 10\n",
        "            specificity /= 10\n",
        "            accuracy /= 10\n",
        "            f1 /= 10\n",
        "\n",
        "        elif scenario in ['75-25', '50-25-25']:\n",
        "            if scenario == '75-25':\n",
        "                X_train, X_test, y_train, y_test = train_test_split(X, y, test_size=0.25, random_state=42)\n",
        "            else:  # 50-25-25\n",
        "                X_train, X_val_test, y_train, y_val_test = train_test_split(X, y, test_size=0.5, random_state=42)\n",
        "                X_val, X_test, y_val, y_test = train_test_split(X_val_test, y_val_test, test_size=0.5, random_state=42)\n",
        "\n",
        "            clf.fit(X_train, y_train)\n",
        "            y_pred = clf.predict(X_test)\n",
        "\n",
        "            report = classification_report(y_test, y_pred, output_dict=True)\n",
        "            cm = confusion_matrix(y_test, y_pred)\n",
        "            sensitivity = report['weighted avg']['recall']\n",
        "            specificity = cm[0, 0] / (cm[0, 0] + cm[0, 1])\n",
        "            accuracy = report['accuracy']\n",
        "            f1 = report['weighted avg']['f1-score']\n",
        "\n",
        "        else:\n",
        "            print('Scenario not recognized')\n",
        "            return\n",
        "\n",
        "        print(f'Dataset {dataset}:')\n",
        "        print(f'Sensitivity: {sensitivity}')\n",
        "        print(f'Specificity: {specificity}')\n",
        "        print(f'Accuracy: {accuracy}')\n",
        "        print(f'F1-Score: {f1}\\n')\n",
        "\n",
        "        total_sensitivity += sensitivity\n",
        "        total_specificity += specificity\n",
        "        total_accuracy += accuracy\n",
        "        total_f1 += f1\n",
        "\n",
        "    total_sensitivity /= 10\n",
        "    total_specificity /= 10\n",
        "    total_accuracy /= 10\n",
        "    total_f1 /= 10\n",
        "\n",
        "    print('Average Performance Parameters:')\n",
        "    print(f'Sensitivity: {total_sensitivity}')\n",
        "    print(f'Specificity: {total_specificity}')\n",
        "    print(f'Accuracy: {total_accuracy}')\n",
        "    print(f'F1-Score: {total_f1}')\n"
      ]
    },
    {
      "cell_type": "code",
      "source": [
        "# Scenario '10-fold CV', '75-25', '50-25-25'\n",
        "# Classifier 'SVM', 'K-NN'\n",
        "classify_and_evaluate('50-25-25', 'SVM')"
      ],
      "metadata": {
        "colab": {
          "base_uri": "https://localhost:8080/"
        },
        "id": "js6m4UNk5XHt",
        "outputId": "f7af33e0-63fa-40ea-d1bd-1b28c3c6ba97"
      },
      "execution_count": null,
      "outputs": [
        {
          "output_type": "stream",
          "name": "stdout",
          "text": [
            "Dataset drive/My Drive/CP/CPA1.xlsx:\n",
            "Sensitivity: 0.8\n",
            "Specificity: 0.7931034482758621\n",
            "Accuracy: 0.8\n",
            "F1-Score: 0.8009740259740261\n",
            "\n",
            "Dataset drive/My Drive/CP/CPA2.xlsx:\n",
            "Sensitivity: 0.7\n",
            "Specificity: 0.6896551724137931\n",
            "Accuracy: 0.7\n",
            "F1-Score: 0.7018181818181819\n",
            "\n",
            "Dataset drive/My Drive/CP/CPA3.xlsx:\n",
            "Sensitivity: 0.7466666666666667\n",
            "Specificity: 0.7924528301886793\n",
            "Accuracy: 0.7466666666666667\n",
            "F1-Score: 0.751062452661296\n",
            "\n",
            "Dataset drive/My Drive/CP/CPB1.xlsx:\n",
            "Sensitivity: 0.8\n",
            "Specificity: 0.7586206896551724\n",
            "Accuracy: 0.8\n",
            "F1-Score: 0.8012882447665056\n",
            "\n",
            "Dataset drive/My Drive/CP/CPB2.xlsx:\n",
            "Sensitivity: 0.78\n",
            "Specificity: 0.7241379310344828\n",
            "Accuracy: 0.78\n",
            "F1-Score: 0.7813247691690086\n",
            "\n",
            "Dataset drive/My Drive/CP/CPB3.xlsx:\n",
            "Sensitivity: 0.88\n",
            "Specificity: 0.8275862068965517\n",
            "Accuracy: 0.88\n",
            "F1-Score: 0.8807729468599034\n",
            "\n",
            "Dataset drive/My Drive/CP/CPB4.xlsx:\n",
            "Sensitivity: 0.88\n",
            "Specificity: 0.8275862068965517\n",
            "Accuracy: 0.88\n",
            "F1-Score: 0.8807729468599034\n",
            "\n",
            "Dataset drive/My Drive/CP/CPB5.xlsx:\n",
            "Sensitivity: 0.8933333333333333\n",
            "Specificity: 0.8679245283018868\n",
            "Accuracy: 0.8933333333333333\n",
            "F1-Score: 0.8965333333333333\n",
            "\n",
            "Dataset drive/My Drive/CP/CPB6.xlsx:\n",
            "Sensitivity: 0.9066666666666666\n",
            "Specificity: 0.8679245283018868\n",
            "Accuracy: 0.9066666666666666\n",
            "F1-Score: 0.9097722321251732\n",
            "\n",
            "Dataset drive/My Drive/CP/CPB7.xlsx:\n",
            "Sensitivity: 0.92\n",
            "Specificity: 0.8913043478260869\n",
            "Accuracy: 0.92\n",
            "F1-Score: 0.9198383838383838\n",
            "\n",
            "Average Performance Parameters:\n",
            "Sensitivity: 0.8306666666666667\n",
            "Specificity: 0.8040295889790954\n",
            "Accuracy: 0.8306666666666667\n",
            "F1-Score: 0.8324157517405716\n"
          ]
        }
      ]
    },
    {
      "cell_type": "code",
      "source": [],
      "metadata": {
        "id": "lDUK4j-ZC8rd"
      },
      "execution_count": null,
      "outputs": []
    }
  ]
}